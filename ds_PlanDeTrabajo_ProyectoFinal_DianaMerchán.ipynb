{
 "cells": [
  {
   "cell_type": "markdown",
   "id": "0c86a52e",
   "metadata": {},
   "source": [
    "# Plan de Trabajo Proyecto Final\n",
    "\n",
    "Al operador de telecomunicaciones Interconnect le gustaría poder pronosticar su tasa de cancelación de clientes. Si se descubre que un usuario o usuaria planea irse, se le ofrecerán códigos promocionales y opciones de planes especiales. El equipo de marketing de Interconnect ha recopilado algunos de los datos personales de sus clientes, incluyendo información sobre sus planes y contratos.\n",
    "\n",
    "Los datos consisten en archivos obtenidos de diferentes fuentes:\n",
    "\n",
    "- `contract.csv` — información del contrato;\n",
    "- `personal.csv` — datos personales del cliente;\n",
    "- `internet.csv` — información sobre los servicios de Internet;\n",
    "- `phone.csv` — información sobre los servicios telefónicos.\n",
    "\n",
    "En cada archivo, la columna `customerID` (ID de cliente) contiene un código único asignado a cada cliente. La información del contrato es válida a partir del 1 de febrero de 2020.\n",
    "\n",
    "\n",
    "A continuación se realizará una exploración inicial de los datos. Presentando al final del notebook:\n",
    "\n",
    "- Una lista de preguntas aclaratorias.\n",
    "- Un plan aproximado para resolver la tarea.\n",
    "\n"
   ]
  },
  {
   "cell_type": "markdown",
   "id": "cf36b6b1",
   "metadata": {},
   "source": [
    "## Análisis Exploratorio de Datos\n",
    "\n",
    "### Inicialización y carga de datos\n",
    "\n",
    "Empezamos importando las librerías necesarias para realizar una exploración inicial de los datos."
   ]
  },
  {
   "cell_type": "code",
   "execution_count": 1,
   "id": "aefa9ece",
   "metadata": {},
   "outputs": [],
   "source": [
    "import pandas as pd\n",
    "import numpy as np\n",
    "import seaborn as sns\n",
    "import matplotlib.pyplot as plt\n",
    "\n",
    "sns.set_style('darkgrid')"
   ]
  },
  {
   "cell_type": "markdown",
   "id": "7ed2e412",
   "metadata": {},
   "source": [
    "Continuamos cargando los cuatro archivos que presentan la información recopilada de cada usuario, para esto utilizaremos la función `read_csv` de pandas. "
   ]
  },
  {
   "cell_type": "code",
   "execution_count": 2,
   "id": "76db2e5e",
   "metadata": {},
   "outputs": [],
   "source": [
    "try:\n",
    "    contract = pd.read_csv('datasets/final_provider/contract.csv')\n",
    "    internet = pd.read_csv('datasets/final_provider/internet.csv')\n",
    "    personal = pd.read_csv('datasets/final_provider/personal.csv')\n",
    "    phone = pd.read_csv('datasets/final_provider/phone.csv')\n",
    "\n",
    "except:\n",
    "    contract = pd.read_csv('/datasets/final_provider/contract.csv')\n",
    "    internet = pd.read_csv('/datasets/final_provider/internet.csv')\n",
    "    personal = pd.read_csv('/datasets/final_provider/personal.csv')\n",
    "    phone = pd.read_csv('/datasets/final_provider/phone.csv')"
   ]
  },
  {
   "cell_type": "markdown",
   "id": "bd5eafd5",
   "metadata": {},
   "source": [
    "Ahora realizaremos un análisis exploratorio inicial de nuestros cuatro conjuntos de datos, para esto utilizaremos el atributo `shape`, los métodos `head` e `info`. Posteriormente comprobaremos la presencia de valores ausentes y duplicados con los métodos `isna` y `duplicated`. Finalmente, trazaremos gráficos de barras para las variables categóricas e histogramas para las variables numéricas o continuas. "
   ]
  },
  {
   "cell_type": "markdown",
   "id": "bf7b5ecc",
   "metadata": {},
   "source": [
    "### Dataset `contract`"
   ]
  },
  {
   "cell_type": "code",
   "execution_count": 3,
   "id": "3178965e",
   "metadata": {},
   "outputs": [
    {
     "data": {
      "text/plain": [
       "(7043, 8)"
      ]
     },
     "execution_count": 3,
     "metadata": {},
     "output_type": "execute_result"
    }
   ],
   "source": [
    "# Número de filas y columnas\n",
    "contract.shape"
   ]
  },
  {
   "cell_type": "code",
   "execution_count": 4,
   "id": "f763d36e",
   "metadata": {},
   "outputs": [
    {
     "data": {
      "text/html": [
       "<div>\n",
       "<style scoped>\n",
       "    .dataframe tbody tr th:only-of-type {\n",
       "        vertical-align: middle;\n",
       "    }\n",
       "\n",
       "    .dataframe tbody tr th {\n",
       "        vertical-align: top;\n",
       "    }\n",
       "\n",
       "    .dataframe thead th {\n",
       "        text-align: right;\n",
       "    }\n",
       "</style>\n",
       "<table border=\"1\" class=\"dataframe\">\n",
       "  <thead>\n",
       "    <tr style=\"text-align: right;\">\n",
       "      <th></th>\n",
       "      <th>customerID</th>\n",
       "      <th>BeginDate</th>\n",
       "      <th>EndDate</th>\n",
       "      <th>Type</th>\n",
       "      <th>PaperlessBilling</th>\n",
       "      <th>PaymentMethod</th>\n",
       "      <th>MonthlyCharges</th>\n",
       "      <th>TotalCharges</th>\n",
       "    </tr>\n",
       "  </thead>\n",
       "  <tbody>\n",
       "    <tr>\n",
       "      <th>0</th>\n",
       "      <td>7590-VHVEG</td>\n",
       "      <td>2020-01-01</td>\n",
       "      <td>No</td>\n",
       "      <td>Month-to-month</td>\n",
       "      <td>Yes</td>\n",
       "      <td>Electronic check</td>\n",
       "      <td>29.85</td>\n",
       "      <td>29.85</td>\n",
       "    </tr>\n",
       "    <tr>\n",
       "      <th>1</th>\n",
       "      <td>5575-GNVDE</td>\n",
       "      <td>2017-04-01</td>\n",
       "      <td>No</td>\n",
       "      <td>One year</td>\n",
       "      <td>No</td>\n",
       "      <td>Mailed check</td>\n",
       "      <td>56.95</td>\n",
       "      <td>1889.5</td>\n",
       "    </tr>\n",
       "    <tr>\n",
       "      <th>2</th>\n",
       "      <td>3668-QPYBK</td>\n",
       "      <td>2019-10-01</td>\n",
       "      <td>2019-12-01 00:00:00</td>\n",
       "      <td>Month-to-month</td>\n",
       "      <td>Yes</td>\n",
       "      <td>Mailed check</td>\n",
       "      <td>53.85</td>\n",
       "      <td>108.15</td>\n",
       "    </tr>\n",
       "    <tr>\n",
       "      <th>3</th>\n",
       "      <td>7795-CFOCW</td>\n",
       "      <td>2016-05-01</td>\n",
       "      <td>No</td>\n",
       "      <td>One year</td>\n",
       "      <td>No</td>\n",
       "      <td>Bank transfer (automatic)</td>\n",
       "      <td>42.30</td>\n",
       "      <td>1840.75</td>\n",
       "    </tr>\n",
       "    <tr>\n",
       "      <th>4</th>\n",
       "      <td>9237-HQITU</td>\n",
       "      <td>2019-09-01</td>\n",
       "      <td>2019-11-01 00:00:00</td>\n",
       "      <td>Month-to-month</td>\n",
       "      <td>Yes</td>\n",
       "      <td>Electronic check</td>\n",
       "      <td>70.70</td>\n",
       "      <td>151.65</td>\n",
       "    </tr>\n",
       "  </tbody>\n",
       "</table>\n",
       "</div>"
      ],
      "text/plain": [
       "   customerID   BeginDate              EndDate            Type  \\\n",
       "0  7590-VHVEG  2020-01-01                   No  Month-to-month   \n",
       "1  5575-GNVDE  2017-04-01                   No        One year   \n",
       "2  3668-QPYBK  2019-10-01  2019-12-01 00:00:00  Month-to-month   \n",
       "3  7795-CFOCW  2016-05-01                   No        One year   \n",
       "4  9237-HQITU  2019-09-01  2019-11-01 00:00:00  Month-to-month   \n",
       "\n",
       "  PaperlessBilling              PaymentMethod  MonthlyCharges TotalCharges  \n",
       "0              Yes           Electronic check           29.85        29.85  \n",
       "1               No               Mailed check           56.95       1889.5  \n",
       "2              Yes               Mailed check           53.85       108.15  \n",
       "3               No  Bank transfer (automatic)           42.30      1840.75  \n",
       "4              Yes           Electronic check           70.70       151.65  "
      ]
     },
     "execution_count": 4,
     "metadata": {},
     "output_type": "execute_result"
    }
   ],
   "source": [
    "# Imprimimos las cinco primeras filas del dataset\n",
    "contract.head()"
   ]
  },
  {
   "cell_type": "code",
   "execution_count": 5,
   "id": "2b4601b2",
   "metadata": {},
   "outputs": [
    {
     "name": "stdout",
     "output_type": "stream",
     "text": [
      "<class 'pandas.core.frame.DataFrame'>\n",
      "RangeIndex: 7043 entries, 0 to 7042\n",
      "Data columns (total 8 columns):\n",
      " #   Column            Non-Null Count  Dtype  \n",
      "---  ------            --------------  -----  \n",
      " 0   customerID        7043 non-null   object \n",
      " 1   BeginDate         7043 non-null   object \n",
      " 2   EndDate           7043 non-null   object \n",
      " 3   Type              7043 non-null   object \n",
      " 4   PaperlessBilling  7043 non-null   object \n",
      " 5   PaymentMethod     7043 non-null   object \n",
      " 6   MonthlyCharges    7043 non-null   float64\n",
      " 7   TotalCharges      7043 non-null   object \n",
      "dtypes: float64(1), object(7)\n",
      "memory usage: 440.3+ KB\n"
     ]
    }
   ],
   "source": [
    "# Revisamos la información correspondiente\n",
    "contract.info()"
   ]
  },
  {
   "cell_type": "code",
   "execution_count": 6,
   "id": "fe66b294",
   "metadata": {},
   "outputs": [
    {
     "name": "stdout",
     "output_type": "stream",
     "text": [
      "Número de valores ausentes: \n",
      "customerID          0\n",
      "BeginDate           0\n",
      "EndDate             0\n",
      "Type                0\n",
      "PaperlessBilling    0\n",
      "PaymentMethod       0\n",
      "MonthlyCharges      0\n",
      "TotalCharges        0\n",
      "dtype: int64\n"
     ]
    }
   ],
   "source": [
    "print(f'''Número de valores ausentes: \n",
    "{contract.isna().sum()}''')"
   ]
  },
  {
   "cell_type": "code",
   "execution_count": 7,
   "id": "874fc11e",
   "metadata": {},
   "outputs": [
    {
     "name": "stdout",
     "output_type": "stream",
     "text": [
      "Número de valores duplicados: 0\n"
     ]
    }
   ],
   "source": [
    "print(f'Número de valores duplicados: {contract.duplicated().sum()}')"
   ]
  },
  {
   "cell_type": "markdown",
   "id": "639660d5",
   "metadata": {},
   "source": [
    "El dataset `contract` cuenta con 8 columnas y 7043 filas, cada fila corresponde a un usuario, así que contamos con la información de un total de 7043 usuarios en Interconnect. Podemos observar que el tipo de dato para las columnas `BeginDate` y `MonthlyCharges` no es el correcto y requieren ser transformados a los tipos correctos, tanto datetime como float. En la columna `EndDate` se observan datos de tipo fecha y string, en primer lugar, será necesario generar una nueva variable categórica que guarde la información de si un cliente canceló o no su cuenta y, en segundo lugar, se deberá reemplazar los valores `No` con una fecha determinada y convertir la columna en tipo datetime. \n",
    "\n",
    "Vamos a transformar la variable `TotalCharges` a formato float para observar la distribución de valores a través del método describe e histrogramas de frecuencia. "
   ]
  },
  {
   "cell_type": "code",
   "execution_count": 8,
   "id": "1b68a530",
   "metadata": {},
   "outputs": [
    {
     "data": {
      "text/plain": [
       "customerID           0\n",
       "BeginDate            0\n",
       "EndDate              0\n",
       "Type                 0\n",
       "PaperlessBilling     0\n",
       "PaymentMethod        0\n",
       "MonthlyCharges       0\n",
       "TotalCharges        11\n",
       "dtype: int64"
      ]
     },
     "execution_count": 8,
     "metadata": {},
     "output_type": "execute_result"
    }
   ],
   "source": [
    "# Transformamos a tipo float y llamamos al método describe\n",
    "contract['TotalCharges'] = pd.to_numeric(contract['TotalCharges'], errors='coerce')\n",
    "\n",
    "# Comprobamos si se generaron valores ausentes\n",
    "contract.isna().sum()"
   ]
  },
  {
   "cell_type": "markdown",
   "id": "fdd9165d",
   "metadata": {},
   "source": [
    "Al cambiar el tipo de dato de cargos totales, se generaron valores ausentes, los cuales serán procesados posteriormente. "
   ]
  },
  {
   "cell_type": "code",
   "execution_count": 9,
   "id": "3eb87219",
   "metadata": {},
   "outputs": [
    {
     "data": {
      "text/html": [
       "<div>\n",
       "<style scoped>\n",
       "    .dataframe tbody tr th:only-of-type {\n",
       "        vertical-align: middle;\n",
       "    }\n",
       "\n",
       "    .dataframe tbody tr th {\n",
       "        vertical-align: top;\n",
       "    }\n",
       "\n",
       "    .dataframe thead th {\n",
       "        text-align: right;\n",
       "    }\n",
       "</style>\n",
       "<table border=\"1\" class=\"dataframe\">\n",
       "  <thead>\n",
       "    <tr style=\"text-align: right;\">\n",
       "      <th></th>\n",
       "      <th>MonthlyCharges</th>\n",
       "      <th>TotalCharges</th>\n",
       "    </tr>\n",
       "  </thead>\n",
       "  <tbody>\n",
       "    <tr>\n",
       "      <th>count</th>\n",
       "      <td>7043.000000</td>\n",
       "      <td>7032.000000</td>\n",
       "    </tr>\n",
       "    <tr>\n",
       "      <th>mean</th>\n",
       "      <td>64.761692</td>\n",
       "      <td>2283.300441</td>\n",
       "    </tr>\n",
       "    <tr>\n",
       "      <th>std</th>\n",
       "      <td>30.090047</td>\n",
       "      <td>2266.771362</td>\n",
       "    </tr>\n",
       "    <tr>\n",
       "      <th>min</th>\n",
       "      <td>18.250000</td>\n",
       "      <td>18.800000</td>\n",
       "    </tr>\n",
       "    <tr>\n",
       "      <th>25%</th>\n",
       "      <td>35.500000</td>\n",
       "      <td>401.450000</td>\n",
       "    </tr>\n",
       "    <tr>\n",
       "      <th>50%</th>\n",
       "      <td>70.350000</td>\n",
       "      <td>1397.475000</td>\n",
       "    </tr>\n",
       "    <tr>\n",
       "      <th>75%</th>\n",
       "      <td>89.850000</td>\n",
       "      <td>3794.737500</td>\n",
       "    </tr>\n",
       "    <tr>\n",
       "      <th>max</th>\n",
       "      <td>118.750000</td>\n",
       "      <td>8684.800000</td>\n",
       "    </tr>\n",
       "  </tbody>\n",
       "</table>\n",
       "</div>"
      ],
      "text/plain": [
       "       MonthlyCharges  TotalCharges\n",
       "count     7043.000000   7032.000000\n",
       "mean        64.761692   2283.300441\n",
       "std         30.090047   2266.771362\n",
       "min         18.250000     18.800000\n",
       "25%         35.500000    401.450000\n",
       "50%         70.350000   1397.475000\n",
       "75%         89.850000   3794.737500\n",
       "max        118.750000   8684.800000"
      ]
     },
     "execution_count": 9,
     "metadata": {},
     "output_type": "execute_result"
    }
   ],
   "source": [
    "# Llamamos al método describe\n",
    "contract.describe()"
   ]
  },
  {
   "cell_type": "code",
   "execution_count": 10,
   "id": "ec6e7656",
   "metadata": {},
   "outputs": [
    {
     "data": {
      "image/png": "[encoded data removed]",
      "text/plain": [
       "<Figure size 1152x288 with 3 Axes>"
      ]
     },
     "metadata": {},
     "output_type": "display_data"
    },
    {
     "data": {
      "image/png": "[encoded data removed]",
      "text/plain": [
       "<Figure size 1152x288 with 2 Axes>"
      ]
     },
     "metadata": {},
     "output_type": "display_data"
    }
   ],
   "source": [
    "# Trazamos gráficos de barras para las variables categóricas\n",
    "fig, ax = plt.subplots(1, 3, figsize=(16,4))\n",
    "ax[0].set_ylabel('Número de clientes')\n",
    "\n",
    "for idx, col in enumerate(['Type', 'PaperlessBilling', 'PaymentMethod']):\n",
    "    contract[col].value_counts(normalize=True).plot(kind='bar', ax=ax[idx], title=col, rot=75)\n",
    "\n",
    "# Trazamos histogramas para las variables numéricas\n",
    "fig, ax = plt.subplots(1, 2, figsize=(16,4))\n",
    "\n",
    "for idx, col in enumerate(['MonthlyCharges', 'TotalCharges']):\n",
    "    contract[col].plot(kind='hist', ax=ax[idx], title=col, bins=20)"
   ]
  },
  {
   "cell_type": "markdown",
   "id": "e12f96ee",
   "metadata": {},
   "source": [
    "Más del 50% de usuarios prefieren realizar pagos mensuales y menos del 20% firman contratos anuales. Por otro lado, cerca del 60% optan por una facturación sin papel y el 35% prefiere una facturación electrónica frente a transferencias bancarias, envío de facturas por correo o tarjetas de crédito. \n",
    "\n",
    "En el caso de los cargos mensuales, podemos observar que cerca de 1200 clientes pagan la tarifa mínima de servicios y se presenta una proporción similar, de aproximadamente 400 clientes, que llegan a pagar tarifas mensuales entre los 70 a 100 dólares. El promedio de pago mensual es de 64.76, valor inferior a la mediana, por lo que nuestros datos presentan una asimetría negativa o un sesgo hacia la izquierda, a pesar de que esto no se ve reflejado en el histograma de frecuencias. \n",
    "\n",
    "Para los cargos totales, se puede determinar una asimetría positiva, con una media superior a la mediana. Esto se corrobora al analizar nuestro histograma, con el pico más alto de cerca de 1800 clientes, a los cuales se les llegó a cobrar entre 18 hasta 500 dólares totales. A su vez, se observan algunos valores atípicos de frecuencias bajas a partir de los 7000 dólares. \n",
    "\n",
    "A continuación, analizaremos el período de tiempo que abarcan nuestros datos. "
   ]
  },
  {
   "cell_type": "code",
   "execution_count": 11,
   "id": "fd67fc9e",
   "metadata": {},
   "outputs": [
    {
     "name": "stdout",
     "output_type": "stream",
     "text": [
      "Fecha mínima de incio de contrato: 2013-10-01\n",
      "Fecha máxima de incio de contrato: 2020-02-01\n"
     ]
    }
   ],
   "source": [
    "print('Fecha mínima de incio de contrato:', contract['BeginDate'].min())\n",
    "print('Fecha máxima de incio de contrato:', contract['BeginDate'].max())"
   ]
  },
  {
   "cell_type": "markdown",
   "id": "bebbb028",
   "metadata": {},
   "source": [
    "La fecha mínima registrada es del año 2013 y la máxima del 2020, así que contamos con la información de un período de siete años. \n",
    "\n",
    "**Observaciones Generales**\n",
    "\n",
    "- Cambiar el tipo de datos de columnas con datos de fechas y cargos totales.\n",
    "- Procesar ausentes generados al transformar el tipo de datos. \n",
    "- Arreglar artefactos encontrados en la columna con fecha de cancelación de la cuenta, a partir de la cual se determinará el objetivo de nuestro modelo de machine learning. "
   ]
  },
  {
   "cell_type": "markdown",
   "id": "f6bb697a",
   "metadata": {},
   "source": [
    "### Dataset `personal`"
   ]
  },
  {
   "cell_type": "code",
   "execution_count": 12,
   "id": "d25c5745",
   "metadata": {},
   "outputs": [
    {
     "data": {
      "text/plain": [
       "(7043, 5)"
      ]
     },
     "execution_count": 12,
     "metadata": {},
     "output_type": "execute_result"
    }
   ],
   "source": [
    "# Número de filas y columnas\n",
    "personal.shape"
   ]
  },
  {
   "cell_type": "code",
   "execution_count": 13,
   "id": "9e4dc551",
   "metadata": {},
   "outputs": [
    {
     "data": {
      "text/html": [
       "<div>\n",
       "<style scoped>\n",
       "    .dataframe tbody tr th:only-of-type {\n",
       "        vertical-align: middle;\n",
       "    }\n",
       "\n",
       "    .dataframe tbody tr th {\n",
       "        vertical-align: top;\n",
       "    }\n",
       "\n",
       "    .dataframe thead th {\n",
       "        text-align: right;\n",
       "    }\n",
       "</style>\n",
       "<table border=\"1\" class=\"dataframe\">\n",
       "  <thead>\n",
       "    <tr style=\"text-align: right;\">\n",
       "      <th></th>\n",
       "      <th>customerID</th>\n",
       "      <th>gender</th>\n",
       "      <th>SeniorCitizen</th>\n",
       "      <th>Partner</th>\n",
       "      <th>Dependents</th>\n",
       "    </tr>\n",
       "  </thead>\n",
       "  <tbody>\n",
       "    <tr>\n",
       "      <th>0</th>\n",
       "      <td>7590-VHVEG</td>\n",
       "      <td>Female</td>\n",
       "      <td>0</td>\n",
       "      <td>Yes</td>\n",
       "      <td>No</td>\n",
       "    </tr>\n",
       "    <tr>\n",
       "      <th>1</th>\n",
       "      <td>5575-GNVDE</td>\n",
       "      <td>Male</td>\n",
       "      <td>0</td>\n",
       "      <td>No</td>\n",
       "      <td>No</td>\n",
       "    </tr>\n",
       "    <tr>\n",
       "      <th>2</th>\n",
       "      <td>3668-QPYBK</td>\n",
       "      <td>Male</td>\n",
       "      <td>0</td>\n",
       "      <td>No</td>\n",
       "      <td>No</td>\n",
       "    </tr>\n",
       "    <tr>\n",
       "      <th>3</th>\n",
       "      <td>7795-CFOCW</td>\n",
       "      <td>Male</td>\n",
       "      <td>0</td>\n",
       "      <td>No</td>\n",
       "      <td>No</td>\n",
       "    </tr>\n",
       "    <tr>\n",
       "      <th>4</th>\n",
       "      <td>9237-HQITU</td>\n",
       "      <td>Female</td>\n",
       "      <td>0</td>\n",
       "      <td>No</td>\n",
       "      <td>No</td>\n",
       "    </tr>\n",
       "  </tbody>\n",
       "</table>\n",
       "</div>"
      ],
      "text/plain": [
       "   customerID  gender  SeniorCitizen Partner Dependents\n",
       "0  7590-VHVEG  Female              0     Yes         No\n",
       "1  5575-GNVDE    Male              0      No         No\n",
       "2  3668-QPYBK    Male              0      No         No\n",
       "3  7795-CFOCW    Male              0      No         No\n",
       "4  9237-HQITU  Female              0      No         No"
      ]
     },
     "execution_count": 13,
     "metadata": {},
     "output_type": "execute_result"
    }
   ],
   "source": [
    "# Imprimimos las cinco primeras filas del dataset\n",
    "personal.head()"
   ]
  },
  {
   "cell_type": "code",
   "execution_count": 14,
   "id": "11fc6dc5",
   "metadata": {
    "scrolled": true
   },
   "outputs": [
    {
     "name": "stdout",
     "output_type": "stream",
     "text": [
      "<class 'pandas.core.frame.DataFrame'>\n",
      "RangeIndex: 7043 entries, 0 to 7042\n",
      "Data columns (total 5 columns):\n",
      " #   Column         Non-Null Count  Dtype \n",
      "---  ------         --------------  ----- \n",
      " 0   customerID     7043 non-null   object\n",
      " 1   gender         7043 non-null   object\n",
      " 2   SeniorCitizen  7043 non-null   int64 \n",
      " 3   Partner        7043 non-null   object\n",
      " 4   Dependents     7043 non-null   object\n",
      "dtypes: int64(1), object(4)\n",
      "memory usage: 275.2+ KB\n"
     ]
    }
   ],
   "source": [
    "# Revisamos información general de los datos\n",
    "personal.info()"
   ]
  },
  {
   "cell_type": "code",
   "execution_count": 15,
   "id": "0ec6742c",
   "metadata": {},
   "outputs": [
    {
     "name": "stdout",
     "output_type": "stream",
     "text": [
      "Número de valores ausentes:\n",
      "customerID       0\n",
      "gender           0\n",
      "SeniorCitizen    0\n",
      "Partner          0\n",
      "Dependents       0\n",
      "dtype: int64\n"
     ]
    }
   ],
   "source": [
    "print(f'''Número de valores ausentes:\n",
    "{personal.isna().sum()}''')"
   ]
  },
  {
   "cell_type": "code",
   "execution_count": 16,
   "id": "4b14649a",
   "metadata": {},
   "outputs": [
    {
     "name": "stdout",
     "output_type": "stream",
     "text": [
      "Número de valores duplicados: 0\n"
     ]
    }
   ],
   "source": [
    "print(f'Número de valores duplicados: {personal.duplicated().sum()}')"
   ]
  },
  {
   "cell_type": "markdown",
   "id": "5a80ba42",
   "metadata": {},
   "source": [
    "El dataset `personal` contiene información personal de cada uno de los 7043 clientes, relacionada con su género `gender`, si se encuentra jubilado o no `SeniorCitizen`, si tiene pareja o no `Partner`, y si tiene dependientes o no `Dependents`. El tipo de datos es correcto, y no se registran valores ausentes o duplicados que requieran ser procesados. "
   ]
  },
  {
   "cell_type": "code",
   "execution_count": 17,
   "id": "019523ab",
   "metadata": {},
   "outputs": [
    {
     "data": {
      "image/png": "[encoded data removed]",
      "text/plain": [
       "<Figure size 1440x720 with 4 Axes>"
      ]
     },
     "metadata": {},
     "output_type": "display_data"
    }
   ],
   "source": [
    "# Trazamos gráficos de barras para cada variable categórica. \n",
    "fig = plt.subplots(figsize=(20, 10))\n",
    "\n",
    "for n, col in enumerate(['gender', 'SeniorCitizen', 'Partner', 'Dependents']):\n",
    "    ax = plt.subplot(2, 2, n + 1)\n",
    "    ax.set_ylabel('Proporción clientes')\n",
    "    personal[col].value_counts(normalize=True).plot(kind='bar', ax=ax, title=col, rot=0)\n",
    "\n",
    "plt.show()"
   ]
  },
  {
   "cell_type": "markdown",
   "id": "b4676597",
   "metadata": {},
   "source": [
    "Existe una proporción similar de hombres y mujeres, con un porcentaje ligeramente superior de hombres. En cuanto al número de clientes jubilados, se registra un porcentaje inferior al 20%. Por otro lado, el número de clientes sin pareja es superior a aquellos usuarios con pareja. Finalmente, cerca del 70% de clientes no presentan dependientes. \n",
    "\n",
    "**Observaciones Generales**\n",
    "\n",
    "- Unificar a un solo estilo el título de cada columna. \n",
    "- No se requiere rellenar ausentes ni cambiar el tipo de datos."
   ]
  },
  {
   "cell_type": "markdown",
   "id": "8524479d",
   "metadata": {},
   "source": [
    "### Dataset `internet`"
   ]
  },
  {
   "cell_type": "code",
   "execution_count": 18,
   "id": "8f587a62",
   "metadata": {},
   "outputs": [
    {
     "data": {
      "text/plain": [
       "(5517, 8)"
      ]
     },
     "execution_count": 18,
     "metadata": {},
     "output_type": "execute_result"
    }
   ],
   "source": [
    "# Número de filas y columnas\n",
    "internet.shape"
   ]
  },
  {
   "cell_type": "code",
   "execution_count": 19,
   "id": "4c1e84d0",
   "metadata": {},
   "outputs": [
    {
     "data": {
      "text/html": [
       "<div>\n",
       "<style scoped>\n",
       "    .dataframe tbody tr th:only-of-type {\n",
       "        vertical-align: middle;\n",
       "    }\n",
       "\n",
       "    .dataframe tbody tr th {\n",
       "        vertical-align: top;\n",
       "    }\n",
       "\n",
       "    .dataframe thead th {\n",
       "        text-align: right;\n",
       "    }\n",
       "</style>\n",
       "<table border=\"1\" class=\"dataframe\">\n",
       "  <thead>\n",
       "    <tr style=\"text-align: right;\">\n",
       "      <th></th>\n",
       "      <th>customerID</th>\n",
       "      <th>InternetService</th>\n",
       "      <th>OnlineSecurity</th>\n",
       "      <th>OnlineBackup</th>\n",
       "      <th>DeviceProtection</th>\n",
       "      <th>TechSupport</th>\n",
       "      <th>StreamingTV</th>\n",
       "      <th>StreamingMovies</th>\n",
       "    </tr>\n",
       "  </thead>\n",
       "  <tbody>\n",
       "    <tr>\n",
       "      <th>0</th>\n",
       "      <td>7590-VHVEG</td>\n",
       "      <td>DSL</td>\n",
       "      <td>No</td>\n",
       "      <td>Yes</td>\n",
       "      <td>No</td>\n",
       "      <td>No</td>\n",
       "      <td>No</td>\n",
       "      <td>No</td>\n",
       "    </tr>\n",
       "    <tr>\n",
       "      <th>1</th>\n",
       "      <td>5575-GNVDE</td>\n",
       "      <td>DSL</td>\n",
       "      <td>Yes</td>\n",
       "      <td>No</td>\n",
       "      <td>Yes</td>\n",
       "      <td>No</td>\n",
       "      <td>No</td>\n",
       "      <td>No</td>\n",
       "    </tr>\n",
       "    <tr>\n",
       "      <th>2</th>\n",
       "      <td>3668-QPYBK</td>\n",
       "      <td>DSL</td>\n",
       "      <td>Yes</td>\n",
       "      <td>Yes</td>\n",
       "      <td>No</td>\n",
       "      <td>No</td>\n",
       "      <td>No</td>\n",
       "      <td>No</td>\n",
       "    </tr>\n",
       "    <tr>\n",
       "      <th>3</th>\n",
       "      <td>7795-CFOCW</td>\n",
       "      <td>DSL</td>\n",
       "      <td>Yes</td>\n",
       "      <td>No</td>\n",
       "      <td>Yes</td>\n",
       "      <td>Yes</td>\n",
       "      <td>No</td>\n",
       "      <td>No</td>\n",
       "    </tr>\n",
       "    <tr>\n",
       "      <th>4</th>\n",
       "      <td>9237-HQITU</td>\n",
       "      <td>Fiber optic</td>\n",
       "      <td>No</td>\n",
       "      <td>No</td>\n",
       "      <td>No</td>\n",
       "      <td>No</td>\n",
       "      <td>No</td>\n",
       "      <td>No</td>\n",
       "    </tr>\n",
       "  </tbody>\n",
       "</table>\n",
       "</div>"
      ],
      "text/plain": [
       "   customerID InternetService OnlineSecurity OnlineBackup DeviceProtection  \\\n",
       "0  7590-VHVEG             DSL             No          Yes               No   \n",
       "1  5575-GNVDE             DSL            Yes           No              Yes   \n",
       "2  3668-QPYBK             DSL            Yes          Yes               No   \n",
       "3  7795-CFOCW             DSL            Yes           No              Yes   \n",
       "4  9237-HQITU     Fiber optic             No           No               No   \n",
       "\n",
       "  TechSupport StreamingTV StreamingMovies  \n",
       "0          No          No              No  \n",
       "1          No          No              No  \n",
       "2          No          No              No  \n",
       "3         Yes          No              No  \n",
       "4          No          No              No  "
      ]
     },
     "execution_count": 19,
     "metadata": {},
     "output_type": "execute_result"
    }
   ],
   "source": [
    "# Imprimimos las cinco primeras filas del dataset\n",
    "internet.head()"
   ]
  },
  {
   "cell_type": "code",
   "execution_count": 20,
   "id": "c1bfec82",
   "metadata": {},
   "outputs": [
    {
     "name": "stdout",
     "output_type": "stream",
     "text": [
      "<class 'pandas.core.frame.DataFrame'>\n",
      "RangeIndex: 5517 entries, 0 to 5516\n",
      "Data columns (total 8 columns):\n",
      " #   Column            Non-Null Count  Dtype \n",
      "---  ------            --------------  ----- \n",
      " 0   customerID        5517 non-null   object\n",
      " 1   InternetService   5517 non-null   object\n",
      " 2   OnlineSecurity    5517 non-null   object\n",
      " 3   OnlineBackup      5517 non-null   object\n",
      " 4   DeviceProtection  5517 non-null   object\n",
      " 5   TechSupport       5517 non-null   object\n",
      " 6   StreamingTV       5517 non-null   object\n",
      " 7   StreamingMovies   5517 non-null   object\n",
      "dtypes: object(8)\n",
      "memory usage: 344.9+ KB\n"
     ]
    }
   ],
   "source": [
    "# Mostramos información general de nuestros datos\n",
    "internet.info()"
   ]
  },
  {
   "cell_type": "code",
   "execution_count": 21,
   "id": "1c0c0fe6",
   "metadata": {},
   "outputs": [
    {
     "name": "stdout",
     "output_type": "stream",
     "text": [
      "Número de valores ausentes:\n",
      "customerID          0\n",
      "InternetService     0\n",
      "OnlineSecurity      0\n",
      "OnlineBackup        0\n",
      "DeviceProtection    0\n",
      "TechSupport         0\n",
      "StreamingTV         0\n",
      "StreamingMovies     0\n",
      "dtype: int64\n"
     ]
    }
   ],
   "source": [
    "print(f'''Número de valores ausentes:\n",
    "{internet.isna().sum()}''')"
   ]
  },
  {
   "cell_type": "code",
   "execution_count": 22,
   "id": "3899cf09",
   "metadata": {},
   "outputs": [
    {
     "name": "stdout",
     "output_type": "stream",
     "text": [
      "Número de valores duplicados: 0\n"
     ]
    }
   ],
   "source": [
    "print(f'Número de valores duplicados: {internet.duplicated().sum()}')"
   ]
  },
  {
   "cell_type": "markdown",
   "id": "cc1ebae8",
   "metadata": {},
   "source": [
    "Nuestro dataset `internet` registra 5517 filas y 8 columnas, lo que nos indica que solo 5517 clientes hacen uso de los servicios de internet de Interconnect, esto será necesario considerar al juntar toda la información en un solo dataset.\n",
    "\n",
    "Se encuentra la siguiente información:\n",
    "\n",
    "- Tipo de servicio de internet `InternetService`: Fibra óptica y DSL.\n",
    "- Seguridad en Internet: software antivirus `DeviceProtection` y un bloqueador de sitios web maliciosos `OnlineSecurity`.\n",
    "- Una línea de soporte técnico `TechSupport`.\n",
    "- Almacenamiento de archivos en la nube y backup de datos `OnlineBackup`.\n",
    "- Streaming de TV `StreamingTV` y directorio de películas `StreamingMovies`\n",
    "\n",
    "No se registran valores ausentes ni duplicados, y el tipo de datos es el correcto. "
   ]
  },
  {
   "cell_type": "code",
   "execution_count": 23,
   "id": "267b482f",
   "metadata": {},
   "outputs": [
    {
     "data": {
      "image/png": "[encoded data removed]",
      "text/plain": [
       "<Figure size 1584x1152 with 7 Axes>"
      ]
     },
     "metadata": {},
     "output_type": "display_data"
    }
   ],
   "source": [
    "# Trazamos gráficos de barras para cada variable del dataset\n",
    "fig = plt.subplots(figsize=(22, 16))\n",
    "\n",
    "for n, col in enumerate(['InternetService', 'OnlineSecurity', 'OnlineBackup', 'DeviceProtection', \n",
    "                         'TechSupport', 'StreamingTV', 'StreamingMovies']):\n",
    "    ax = plt.subplot(3, 3, n + 1)\n",
    "    ax.set_ylabel('Proporción clientes')\n",
    "    internet[col].value_counts(normalize=True).plot(kind='bar', ax=ax, title=col, rot=0)\n",
    "\n",
    "plt.show()"
   ]
  },
  {
   "cell_type": "markdown",
   "id": "6824e110",
   "metadata": {},
   "source": [
    "Más del 50% de clientes prefieren contratar servicios de fibra óptica sobre DSL (línea de abonado digital). Para servicios como seguridad en línea, backup de datos, software antivirus y soporte técnico, se registra un mayor número de usuarios que no hacen uso de estos servicios, por lo que será necesario explorar más a detalle si estos factores pueden llegar a influir en la cancelación de cuentas de clientes. \n",
    "\n",
    "En cuanto a servicios de streaming de TV y directorio de películas, si bien existe una mayor proporción de clientes que no utilizan estos servicios, la diferencia no es tan significativa. \n",
    "\n",
    "**Observaciones Generales**\n",
    "\n",
    "- No se requiere imputar ausentes o cambiar el tipo de datos.\n",
    "- Se debe considerar que solo 5517 clientes contrataron los servicios de internet de la compañía.\n",
    "- Se deberá analizar más a detalle si el uso o no de estos servicios pueden llegar a influir en la decisión de cancelar una cuenta. "
   ]
  },
  {
   "cell_type": "markdown",
   "id": "0facc291",
   "metadata": {},
   "source": [
    "### Dataset `phone`"
   ]
  },
  {
   "cell_type": "code",
   "execution_count": 24,
   "id": "f7f11fd6",
   "metadata": {},
   "outputs": [
    {
     "data": {
      "text/plain": [
       "(6361, 2)"
      ]
     },
     "execution_count": 24,
     "metadata": {},
     "output_type": "execute_result"
    }
   ],
   "source": [
    "# Número de filas y columnas \n",
    "phone.shape"
   ]
  },
  {
   "cell_type": "code",
   "execution_count": 25,
   "id": "8ab5c91d",
   "metadata": {},
   "outputs": [
    {
     "data": {
      "text/html": [
       "<div>\n",
       "<style scoped>\n",
       "    .dataframe tbody tr th:only-of-type {\n",
       "        vertical-align: middle;\n",
       "    }\n",
       "\n",
       "    .dataframe tbody tr th {\n",
       "        vertical-align: top;\n",
       "    }\n",
       "\n",
       "    .dataframe thead th {\n",
       "        text-align: right;\n",
       "    }\n",
       "</style>\n",
       "<table border=\"1\" class=\"dataframe\">\n",
       "  <thead>\n",
       "    <tr style=\"text-align: right;\">\n",
       "      <th></th>\n",
       "      <th>customerID</th>\n",
       "      <th>MultipleLines</th>\n",
       "    </tr>\n",
       "  </thead>\n",
       "  <tbody>\n",
       "    <tr>\n",
       "      <th>0</th>\n",
       "      <td>5575-GNVDE</td>\n",
       "      <td>No</td>\n",
       "    </tr>\n",
       "    <tr>\n",
       "      <th>1</th>\n",
       "      <td>3668-QPYBK</td>\n",
       "      <td>No</td>\n",
       "    </tr>\n",
       "    <tr>\n",
       "      <th>2</th>\n",
       "      <td>9237-HQITU</td>\n",
       "      <td>No</td>\n",
       "    </tr>\n",
       "    <tr>\n",
       "      <th>3</th>\n",
       "      <td>9305-CDSKC</td>\n",
       "      <td>Yes</td>\n",
       "    </tr>\n",
       "    <tr>\n",
       "      <th>4</th>\n",
       "      <td>1452-KIOVK</td>\n",
       "      <td>Yes</td>\n",
       "    </tr>\n",
       "  </tbody>\n",
       "</table>\n",
       "</div>"
      ],
      "text/plain": [
       "   customerID MultipleLines\n",
       "0  5575-GNVDE            No\n",
       "1  3668-QPYBK            No\n",
       "2  9237-HQITU            No\n",
       "3  9305-CDSKC           Yes\n",
       "4  1452-KIOVK           Yes"
      ]
     },
     "execution_count": 25,
     "metadata": {},
     "output_type": "execute_result"
    }
   ],
   "source": [
    "# Imprimimos las cinco primeras filas del dataset\n",
    "phone.head()"
   ]
  },
  {
   "cell_type": "code",
   "execution_count": 26,
   "id": "b8d6629b",
   "metadata": {},
   "outputs": [
    {
     "name": "stdout",
     "output_type": "stream",
     "text": [
      "<class 'pandas.core.frame.DataFrame'>\n",
      "RangeIndex: 6361 entries, 0 to 6360\n",
      "Data columns (total 2 columns):\n",
      " #   Column         Non-Null Count  Dtype \n",
      "---  ------         --------------  ----- \n",
      " 0   customerID     6361 non-null   object\n",
      " 1   MultipleLines  6361 non-null   object\n",
      "dtypes: object(2)\n",
      "memory usage: 99.5+ KB\n"
     ]
    }
   ],
   "source": [
    "# Mostramos la información general de nuestros datos\n",
    "phone.info()"
   ]
  },
  {
   "cell_type": "code",
   "execution_count": 27,
   "id": "951c6cb0",
   "metadata": {},
   "outputs": [
    {
     "name": "stdout",
     "output_type": "stream",
     "text": [
      "Número de valores ausentes:\n",
      "customerID       0\n",
      "MultipleLines    0\n",
      "dtype: int64\n"
     ]
    }
   ],
   "source": [
    "print(f'''Número de valores ausentes:\n",
    "{phone.isna().sum()}''')"
   ]
  },
  {
   "cell_type": "code",
   "execution_count": 28,
   "id": "eedad853",
   "metadata": {},
   "outputs": [
    {
     "name": "stdout",
     "output_type": "stream",
     "text": [
      "Número de valores duplicados: 0\n"
     ]
    }
   ],
   "source": [
    "print(f'Número de valores duplicados: {phone.duplicated().sum()}')"
   ]
  },
  {
   "cell_type": "code",
   "execution_count": 29,
   "id": "6caec91c",
   "metadata": {},
   "outputs": [
    {
     "data": {
      "image/png": "[encoded data removed]",
      "text/plain": [
       "<Figure size 432x288 with 1 Axes>"
      ]
     },
     "metadata": {},
     "output_type": "display_data"
    }
   ],
   "source": [
    "#Trazamos un gráfico de barras \n",
    "phone['MultipleLines'].value_counts(normalize=True).plot(kind='bar', rot=0, title='MultipleLines')\n",
    "plt.ylabel('Proporción clientes')\n",
    "plt.show()"
   ]
  },
  {
   "cell_type": "markdown",
   "id": "3a6a04a5",
   "metadata": {},
   "source": [
    "Nuestro dataset `phone` registra un total de 6361 filas y 2 columnas, por lo que solo 6361 clientes hacen uso de los servicios de telefonía fija. De estos, existe una mayor proporción de usuarios que no contratan la conexión de varias líneas de manera simultánea. \n",
    "\n",
    "No se registran valores ausentes ni duplicados y el tipo de datos es el correcto. \n",
    "\n",
    "**Observaciones Generales**\n",
    "\n",
    "- No se requiere preprocesar datos, pero se debe considerar que solo 6361 hacen uso de los servicios de telefonía fija."
   ]
  },
  {
   "cell_type": "markdown",
   "id": "5c419d24",
   "metadata": {},
   "source": [
    "## Plan de Resolución\n",
    "\n",
    "### Preprocesamiento de datos\n",
    "\n",
    "En base al análisis exploratorio inicial de nuestros datos se realizará el siguiente preprocesamiento:\n",
    "1. Se construirá un solo dataset que contendrá la información personal, el tipo de contrato, tipo de servicio de internet y comunicación por teléfono fijo para cada uno de los 7043 usuarios de Interconnect.\n",
    "2. A este nuevo dataset se cambiará el título de columnas siguiendo las normas del buen estilo en programación, y se cambiará el tipo de dato de las columnas `BeginDate` y `TotalCharges`.\n",
    "3. A partir de la columna `EndDate`, que contiene nuestro objetivo a predecir, se obtendrá una nueva variable cualitativa que contendrá dos categorías: 0-no canceló su contrato, 1-canceló su contrato. \n",
    "4. Se generarán nuevas columnas con información relacionada a los años y meses de suscripción por usuario. Para esto será necesario cambiar el tipo de dato de la columna fecha de finalización del contrato a datetime y también reemplazar las cuentas no suspendidas por una fecha determinada. \n",
    "5. Se verificará si en este nuevo dataset se generaron valores ausentes, considerando que no todos los usuarios se registran en los datasets de internet y phone. Estos serán imputados dependiendo del tipo de dato y de si existe un patrón subyacente.\n",
    "\n",
    "\n",
    "### Análisis Exploratorio de Datos (EDA)\n",
    "\n",
    "Una vez preprocesados los datos, procederemos a analizar y encontrar patrones en los datos:\n",
    "1. Estableceremos cómo se relaciona el género, jubilación, tener pareja o dependientes con la tasa de cancelación de clientes. \n",
    "2. Cómo varía la cancelación de cuentas dependiendo del tipo de servicio contratado (internet o teléfono fijo).\n",
    "3. Agruparemos la tasa de cancelación de acuerdo a los diferentes servicios brindados por la empresa y observaremos si existe algún tipo de relación. \n",
    "4. Compararemos el cargo mensual y total entre clientes que han cancelado o no sus cuentas para establecer si este factor puede influir en la decisión de abandono de servicios. \n",
    "5. Determinar si el tiempo de permanencia de cada usuario se relaciona con la tasa de cancelación de cuentas y qué tipo de usuarios son los que generan más ingresos a la empresa. \n",
    "\n",
    "### Preparación de datos para entrenamiento\n",
    "\n",
    "1. Se dividirá nuestro dataset correctamente preprocesado en conjuntos de entrenamiento y prueba en una proporción 80:20.\n",
    "2. Se establecerán las características y el objetivo de cada conjunto de datos.\n",
    "3. Se transformarán las características categóricas en numéricas por codificación de etiquetas o One-Hot Encoding dependiendo del tipo de modelo de aprendizaje supervisado. \n",
    "4. Se estandarizarán o escalarán las características numéricas.\n",
    "5. Se analizará el desbalance de clases en la variable objetivo para determinar si se requiere un ajuste. \n",
    "\n",
    "### Entrenamiento modelos\n",
    "\n",
    "1. Se construirán seis modelos de aprendizaje automático que predecirán la cancelación o no de cuentas: \n",
    "    - Regresión Logística\n",
    "    - Árbol de Decisión\n",
    "    - Bosque Aleatorio\n",
    "    - LGBMClassifier\n",
    "    - CatBoostClassifier\n",
    "    - XGBClassifier.\n",
    "2. Se utilizará como métrica de evaluación de calidad del modelo AUC-ROC y como métrica adicional la exactitud. \n",
    "2. Se realizará un prueba de cordura con un modelo DummyClassifier.\n",
    "2. Para cada modelo se realizará un ajuste de hiperparámetros, escogiendo aquel modelo que obtenga el valor AUC-ROC y exactitud más altos en el conjunto de prueba.  \n",
    "\n",
    "### Conclusión\n",
    "\n",
    "1. En base a los resultados obtenidos se generará conclusiones sobre el mejor modelo obtenido. \n"
   ]
  },
  {
   "cell_type": "markdown",
   "id": "c592e6bb",
   "metadata": {},
   "source": [
    "## Preguntas Aclaratorias\n",
    "\n",
    "1. ¿A qué hace referencia la variable `TotalCharge`, al cargo total por año, por meses o por tiempo total de suscripción?\n",
    "2. Dentro de la planificación se busca establecer el número de meses y años de suscripción por usuario, ¿qué fecha se toma como referencia para aquellos usuarios cuyos contratos no han sido cancelados?\n",
    "3. En la sección de Análisis Exploratorio de Datos ¿qué información o patrones se espera que sean analizados y visualizados para que la tarea sea considerada como aprobada?\n",
    "4. Se planifica entrenar seis modelos de clasificación, tanto tradicionales como de potenciación de gradiente ¿qué otros modelos se recomienda entrenar para obtener una mejor métrica?\n",
    "5. En caso de desbalance de clases, ¿se debería hacer uso de técnicas de submuestreo o sobremuestreo?\n"
   ]
  }
 ],
 "metadata": {
  "kernelspec": {
   "display_name": "Python 3 (ipykernel)",
   "language": "python",
   "name": "python3"
  },
  "language_info": {
   "codemirror_mode": {
    "name": "ipython",
    "version": 3
   },
   "file_extension": ".py",
   "mimetype": "text/x-python",
   "name": "python",
   "nbconvert_exporter": "python",
   "pygments_lexer": "ipython3",
   "version": "3.9.12"
  },
  "toc": {
   "base_numbering": 1,
   "nav_menu": {},
   "number_sections": true,
   "sideBar": true,
   "skip_h1_title": true,
   "title_cell": "Table of Contents",
   "title_sidebar": "Contents",
   "toc_cell": false,
   "toc_position": {
    "height": "calc(100% - 180px)",
    "left": "10px",
    "top": "150px",
    "width": "273.225px"
   },
   "toc_section_display": true,
   "toc_window_display": true
  }
 },
 "nbformat": 4,
 "nbformat_minor": 5
}
